{
  "nbformat": 4,
  "nbformat_minor": 0,
  "metadata": {
    "colab": {
      "name": "Copy of PRO-C108-Project-Solution.ipynb",
      "provenance": [],
      "collapsed_sections": []
    },
    "kernelspec": {
      "name": "python3",
      "display_name": "Python 3"
    },
    "language_info": {
      "name": "python"
    }
  },
  "cells": [
    {
      "cell_type": "markdown",
      "metadata": {
        "id": "dBA4tWY44VPi"
      },
      "source": [
        "**PRINT MY NAME**\n"
      ]
    },
    {
      "cell_type": "code",
      "metadata": {
        "colab": {
          "base_uri": "https://localhost:8080/"
        },
        "id": "1xgwjr4K4YvN",
        "outputId": "85e135dd-06fa-4cd9-8a4b-6661b2a2fdb6"
      },
      "source": [
        "name=(input(\"Enter your name :  \"))\n",
        "iteration = len(name)\n",
        "for i in range(0,iteration):\n",
        "    for j in range(0,iteration):\n",
        "      if(i==j):\n",
        "        print(name[j],sep=\" \",end=\" \")\n",
        "      else:\n",
        "        print(\"*\",sep=\" \",end=\" \")\n",
        "    print()"
      ],
      "execution_count": null,
      "outputs": [
        {
          "output_type": "stream",
          "name": "stdout",
          "text": [
            "Enter your name :  Sheldon\n",
            "S * * * * * * \n",
            "* h * * * * * \n",
            "* * e * * * * \n",
            "* * * l * * * \n",
            "* * * * d * * \n",
            "* * * * * o * \n",
            "* * * * * * n \n"
          ]
        }
      ]
    }
  ]
}